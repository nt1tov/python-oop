{
 "cells": [
  {
   "cell_type": "code",
   "execution_count": 1,
   "metadata": {},
   "outputs": [],
   "source": [
    "class SomeObject:\n",
    "    def __init__(self):\n",
    "        self.integer_field = 0\n",
    "        self.float_field = 0.0\n",
    "        self.string_field = \"\"\n",
    "\n",
    "\n",
    "\n",
    "\n"
   ]
  },
  {
   "cell_type": "code",
   "execution_count": 49,
   "metadata": {},
   "outputs": [],
   "source": [
    "class NullHandler:\n",
    "    def __init__(self, successor=None):\n",
    "        self.__successor = successor\n",
    "    \n",
    "    def handle(self, obj, event):\n",
    "        if self.__successor is not None:\n",
    "            return self.__successor.handle(obj, event)\n",
    "        else:\n",
    "            return None\n",
    "    \n",
    "\n",
    "            \n",
    "class FloatHandler(NullHandler): \n",
    "    def handle(self, obj, event):\n",
    "        if event.dtype == float:\n",
    "            #print(f\"{event.kind} {event.dtype} value in FloatHandler\")\n",
    "            if event.kind == 'get':\n",
    "                print(f\"returning {obj.float_field} \")\n",
    "                return obj.float_field\n",
    "            elif event.kind == 'set':\n",
    "                obj.float_field = event.data\n",
    "                return None\n",
    "        else:\n",
    "            #print(\"Передаю обработку дальше\")\n",
    "            return super().handle(obj, event)\n",
    "            \n",
    "class IntHandler(NullHandler):\n",
    "    def handle(self, obj, event):\n",
    "        if event.dtype == int:\n",
    "            #print(f\"{event.kind} {event.dtype} value in IntHandler\")\n",
    "            if event.kind == 'get':\n",
    "                return obj.integer_field\n",
    "            elif event.kind == 'set':\n",
    "                obj.integer_field = event.data\n",
    "                return None\n",
    "        else:\n",
    "            #print(\"Передаю обработку дальше\")\n",
    "            return super().handle(obj, event)\n",
    "\n",
    "class StrHandler(NullHandler): \n",
    "    def handle(self, obj, event):\n",
    "        if event.dtype == str:\n",
    "            #print(f\"{event.kind} {event.dtype} value in StrHandler\")\n",
    "            if event.kind == 'get':\n",
    "                return obj.str_field\n",
    "            elif event.kind == 'set':\n",
    "                obj.str_field = event.data\n",
    "                return None\n",
    "        else:\n",
    "            #print(\"Передаю обработку дальше\")\n",
    "            return super().handle(obj, event)\n"
   ]
  },
  {
   "cell_type": "code",
   "execution_count": 50,
   "metadata": {},
   "outputs": [],
   "source": [
    "class Event:\n",
    "    def __init__(self, t):\n",
    "        self.kind = None\n",
    "        self.dtype = None\n",
    "        \n",
    "class EventGet(Event):\n",
    "    def __init__(self, t):\n",
    "        self.kind = \"get\"\n",
    "        self.dtype = t\n",
    "        self.data = None\n",
    "\n",
    "class EventSet(Event):\n",
    "    def __init__(self, data):\n",
    "        self.dtype = type(data)\n",
    "        self.kind = \"set\"\n",
    "        self.data = data"
   ]
  },
  {
   "cell_type": "code",
   "execution_count": 51,
   "metadata": {},
   "outputs": [],
   "source": [
    "obj = SomeObject()\n",
    "obj.integer_field = 2\n",
    "obj.float_field = 103.2\n",
    "obj.str_field = 'dummy'\n",
    "\n",
    "chain = IntHandler(FloatHandler(StrHandler(NullHandler())))\n",
    "\n"
   ]
  },
  {
   "cell_type": "code",
   "execution_count": 52,
   "metadata": {},
   "outputs": [
    {
     "name": "stdout",
     "output_type": "stream",
     "text": [
      "Передаю обработку дальше\n",
      "get <class 'float'> value in FloatHandler\n",
      "returning 103.2 \n",
      "103.2\n"
     ]
    }
   ],
   "source": [
    "print(chain.handle(obj, EventGet(float)))"
   ]
  },
  {
   "cell_type": "code",
   "execution_count": 53,
   "metadata": {},
   "outputs": [
    {
     "name": "stdout",
     "output_type": "stream",
     "text": [
      "Передаю обработку дальше\n",
      "Передаю обработку дальше\n",
      "get <class 'str'> value in StrHandler\n",
      "dummy\n"
     ]
    }
   ],
   "source": [
    "print(chain.handle(obj, EventGet(str)))"
   ]
  },
  {
   "cell_type": "code",
   "execution_count": 54,
   "metadata": {},
   "outputs": [
    {
     "name": "stdout",
     "output_type": "stream",
     "text": [
      "get <class 'int'> value in IntHandler\n",
      "2\n"
     ]
    }
   ],
   "source": [
    "print(chain.handle(obj, EventGet(int)))"
   ]
  },
  {
   "cell_type": "code",
   "execution_count": 57,
   "metadata": {},
   "outputs": [
    {
     "name": "stdout",
     "output_type": "stream",
     "text": [
      "set <class 'int'> value in IntHandler\n",
      "get <class 'int'> value in IntHandler\n"
     ]
    },
    {
     "data": {
      "text/plain": [
       "117"
      ]
     },
     "execution_count": 57,
     "metadata": {},
     "output_type": "execute_result"
    }
   ],
   "source": [
    "chain.handle(obj, EventSet(117))\n",
    "chain.handle(obj, EventGet(int))"
   ]
  },
  {
   "cell_type": "code",
   "execution_count": 59,
   "metadata": {},
   "outputs": [
    {
     "name": "stdout",
     "output_type": "stream",
     "text": [
      "Передаю обработку дальше\n",
      "set <class 'float'> value in FloatHandler\n",
      "Передаю обработку дальше\n",
      "get <class 'float'> value in FloatHandler\n",
      "returning 117.117 \n"
     ]
    },
    {
     "data": {
      "text/plain": [
       "117.117"
      ]
     },
     "execution_count": 59,
     "metadata": {},
     "output_type": "execute_result"
    }
   ],
   "source": [
    "chain.handle(obj, EventSet(117.117))\n",
    "chain.handle(obj, EventGet(float))"
   ]
  },
  {
   "cell_type": "code",
   "execution_count": 60,
   "metadata": {},
   "outputs": [
    {
     "name": "stdout",
     "output_type": "stream",
     "text": [
      "Передаю обработку дальше\n",
      "Передаю обработку дальше\n",
      "set <class 'str'> value in StrHandler\n",
      "Передаю обработку дальше\n",
      "Передаю обработку дальше\n",
      "get <class 'str'> value in StrHandler\n"
     ]
    },
    {
     "data": {
      "text/plain": [
       "'blabla'"
      ]
     },
     "execution_count": 60,
     "metadata": {},
     "output_type": "execute_result"
    }
   ],
   "source": [
    "chain.handle(obj, EventSet(\"blabla\"))\n",
    "chain.handle(obj, EventGet(str))"
   ]
  },
  {
   "cell_type": "code",
   "execution_count": null,
   "metadata": {},
   "outputs": [],
   "source": []
  }
 ],
 "metadata": {
  "kernelspec": {
   "display_name": "Python 3",
   "language": "python",
   "name": "python3"
  },
  "language_info": {
   "codemirror_mode": {
    "name": "ipython",
    "version": 3
   },
   "file_extension": ".py",
   "mimetype": "text/x-python",
   "name": "python",
   "nbconvert_exporter": "python",
   "pygments_lexer": "ipython3",
   "version": "3.7.4"
  }
 },
 "nbformat": 4,
 "nbformat_minor": 2
}
